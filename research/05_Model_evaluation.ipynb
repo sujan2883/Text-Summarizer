{
 "cells": [
  {
   "cell_type": "code",
   "execution_count": 1,
   "metadata": {},
   "outputs": [],
   "source": [
    "import os"
   ]
  },
  {
   "cell_type": "code",
   "execution_count": 2,
   "metadata": {},
   "outputs": [
    {
     "data": {
      "text/plain": [
       "'e:\\\\NLP Project\\\\Text-Summarizer\\\\research'"
      ]
     },
     "execution_count": 2,
     "metadata": {},
     "output_type": "execute_result"
    }
   ],
   "source": [
    "%pwd"
   ]
  },
  {
   "cell_type": "code",
   "execution_count": 3,
   "metadata": {},
   "outputs": [],
   "source": [
    "os.chdir(\"../\")"
   ]
  },
  {
   "cell_type": "code",
   "execution_count": 4,
   "metadata": {},
   "outputs": [
    {
     "data": {
      "text/plain": [
       "'e:\\\\NLP Project\\\\Text-Summarizer'"
      ]
     },
     "execution_count": 4,
     "metadata": {},
     "output_type": "execute_result"
    }
   ],
   "source": [
    "%pwd"
   ]
  },
  {
   "cell_type": "code",
   "execution_count": 5,
   "metadata": {},
   "outputs": [],
   "source": [
    "from dataclasses import dataclass\n",
    "from pathlib import Path\n",
    "\n",
    "\n",
    "@dataclass(frozen=True)\n",
    "class ModelEvaluationConfig:\n",
    "    root_dir: Path\n",
    "    data_path: Path\n",
    "    model_path: Path\n",
    "    tokenizer_path: Path\n",
    "    metric_file_name: Path"
   ]
  },
  {
   "cell_type": "code",
   "execution_count": 6,
   "metadata": {},
   "outputs": [],
   "source": [
    "from textSummarizer.constants import *\n",
    "from textSummarizer.utils.common import read_yaml, create_directories"
   ]
  },
  {
   "cell_type": "code",
   "execution_count": 7,
   "metadata": {},
   "outputs": [],
   "source": [
    "class ConfigurationManager:\n",
    "    def __init__(\n",
    "        self,\n",
    "        config_filepath = CONFIG_FILE_PATH,\n",
    "        params_filepath = PARAMS_FILE_PATH):\n",
    "\n",
    "        self.config = read_yaml(config_filepath)\n",
    "        self.params = read_yaml(params_filepath)\n",
    "\n",
    "        create_directories([self.config.artifacts_root])\n",
    "\n",
    "\n",
    "    \n",
    "    def get_model_evaluation_config(self) -> ModelEvaluationConfig:\n",
    "        config = self.config.model_evaluation\n",
    "\n",
    "        create_directories([config.root_dir])\n",
    "\n",
    "        model_evaluation_config = ModelEvaluationConfig(\n",
    "            root_dir=config.root_dir,\n",
    "            data_path=config.data_path,\n",
    "            model_path = config.model_path,\n",
    "            tokenizer_path = config.tokenizer_path,\n",
    "            metric_file_name = config.metric_file_name\n",
    "           \n",
    "        )\n",
    "\n",
    "        return model_evaluation_config\n"
   ]
  },
  {
   "cell_type": "code",
   "execution_count": 8,
   "metadata": {},
   "outputs": [
    {
     "name": "stdout",
     "output_type": "stream",
     "text": [
      "[2025-04-14 12:18:30,701: INFO: config: PyTorch version 2.5.1+cu118 available.]\n"
     ]
    }
   ],
   "source": [
    "from transformers import AutoModelForSeq2SeqLM, AutoTokenizer\n",
    "from datasets import load_dataset, load_from_disk\n",
    "import evaluate\n",
    "import torch\n",
    "import pandas as pd\n",
    "from tqdm import tqdm"
   ]
  },
  {
   "cell_type": "code",
   "execution_count": 10,
   "metadata": {},
   "outputs": [
    {
     "name": "stdout",
     "output_type": "stream",
     "text": [
      "[2025-04-14 12:46:14,780: INFO: common: yaml file: config\\config.yaml loaded successfully]\n",
      "[2025-04-14 12:46:14,783: INFO: common: yaml file: params.yaml loaded successfully]\n",
      "[2025-04-14 12:46:14,784: INFO: common: created directory at: artifacts]\n",
      "[2025-04-14 12:46:14,785: INFO: common: created directory at: artifacts/model_evaluation]\n",
      "Model and tokenizer loaded successfully on cpu\n",
      "Dataset loaded successfully from disk\n"
     ]
    },
    {
     "name": "stderr",
     "output_type": "stream",
     "text": [
      "100%|██████████| 410/410 [1:44:45<00:00, 15.33s/it]"
     ]
    },
    {
     "name": "stdout",
     "output_type": "stream",
     "text": [
      "[2025-04-14 14:31:03,223: INFO: rouge_scorer: Using default tokenizer.]\n"
     ]
    },
    {
     "name": "stderr",
     "output_type": "stream",
     "text": [
      "\n"
     ]
    },
    {
     "name": "stdout",
     "output_type": "stream",
     "text": [
      "Evaluation results saved to artifacts/model_evaluation/metrics.csv\n"
     ]
    }
   ],
   "source": [
    "from transformers import AutoModelForSeq2SeqLM, AutoTokenizer\n",
    "from datasets import load_from_disk\n",
    "import evaluate\n",
    "import torch\n",
    "import pandas as pd\n",
    "from tqdm import tqdm\n",
    "\n",
    "class ModelEvaluation:\n",
    "    def __init__(self, config: ModelEvaluationConfig):\n",
    "        self.config = config\n",
    "\n",
    "    def generate_batch_sized_chunks(self, list_of_elements, batch_size):\n",
    "        \"\"\"Split the dataset into smaller batches that we can process simultaneously.\"\"\"\n",
    "        for i in range(0, len(list_of_elements), batch_size):\n",
    "            yield list_of_elements[i : i + batch_size]\n",
    "\n",
    "    def calculate_metric_on_test_ds(self, dataset, metric, model, tokenizer, \n",
    "                                   batch_size=2, device=\"cpu\",  # Forced to CPU\n",
    "                                   column_text=\"dialogue\", \n",
    "                                   column_summary=\"summary\"):\n",
    "        article_batches = list(self.generate_batch_sized_chunks(dataset[column_text], batch_size))\n",
    "        target_batches = list(self.generate_batch_sized_chunks(dataset[column_summary], batch_size))\n",
    "\n",
    "        for article_batch, target_batch in tqdm(\n",
    "            zip(article_batches, target_batches), total=len(article_batches)):\n",
    "            inputs = tokenizer(article_batch, max_length=512, truncation=True, \n",
    "                             padding=\"max_length\", return_tensors=\"pt\")\n",
    "            summaries = model.generate(\n",
    "                input_ids=inputs[\"input_ids\"].to(device),\n",
    "                attention_mask=inputs[\"attention_mask\"].to(device),\n",
    "                length_penalty=0.8, num_beams=4, max_length=128\n",
    "            )\n",
    "            decoded_summaries = [tokenizer.decode(s, skip_special_tokens=True, \n",
    "                                               clean_up_tokenization_spaces=True) \n",
    "                               for s in summaries]\n",
    "            decoded_summaries = [d.strip() for d in decoded_summaries]  # Clean up whitespace\n",
    "            metric.add_batch(predictions=decoded_summaries, references=target_batch)\n",
    "        \n",
    "        score = metric.compute()\n",
    "        return score\n",
    "\n",
    "    def evaluate(self):\n",
    "        device = \"cpu\"  # Forced to CPU\n",
    "        try:\n",
    "            tokenizer = AutoTokenizer.from_pretrained(self.config.tokenizer_path)\n",
    "            model_pegasus = AutoModelForSeq2SeqLM.from_pretrained(self.config.model_path).to(device)\n",
    "            print(f\"Model and tokenizer loaded successfully on {device}\")\n",
    "        except Exception as e:\n",
    "            print(f\"Error loading model or tokenizer: {e}\")\n",
    "            raise\n",
    "\n",
    "        # Loading data with fallback to CSV if dataset not found\n",
    "        try:\n",
    "            dataset_samsum_pt = load_from_disk(self.config.data_path)\n",
    "            print(\"Dataset loaded successfully from disk\")\n",
    "        except FileNotFoundError:\n",
    "            print(\"Processed dataset not found. Loading from CSV as fallback.\")\n",
    "            try:\n",
    "                df_train = pd.read_csv(\"artifacts/data_ingestion/samsum_dataset/samsum-train.csv\")\n",
    "                df_validation = pd.read_csv(\"artifacts/data_ingestion/samsum_dataset/samsum-validation.csv\")\n",
    "                df_test = pd.read_csv(\"artifacts/data_ingestion/samsum_dataset/samsum-test.csv\")\n",
    "                required_columns = [\"dialogue\", \"summary\"]\n",
    "                for df in [df_train, df_validation, df_test]:\n",
    "                    if not all(col in df.columns for col in required_columns):\n",
    "                        raise ValueError(f\"CSV missing required columns: {required_columns}\")\n",
    "                from datasets import Dataset\n",
    "                dataset = Dataset.from_pandas(pd.concat([df_train, df_validation, df_test])).train_test_split(test_size=0.2)\n",
    "                dataset_samsum_pt = dataset\n",
    "                print(\"Dataset created from CSV files\")\n",
    "            except Exception as e:\n",
    "                print(f\"Error loading CSV files: {e}\")\n",
    "                raise\n",
    "\n",
    "        rouge_names = [\"rouge1\", \"rouge2\", \"rougeL\", \"rougeLsum\"]\n",
    "        rouge_metric = evaluate.load(\"rouge\")\n",
    "\n",
    "        score = self.calculate_metric_on_test_ds(\n",
    "            #dataset_samsum_pt['test'][0:10], rouge_metric, model_pegasus, tokenizer,\n",
    "            dataset_samsum_pt['test'], rouge_metric, model_pegasus, tokenizer,\n",
    "            batch_size=2, column_text=\"dialogue\", column_summary=\"summary\"\n",
    "        )\n",
    "\n",
    "        # Updated to use direct float values instead of .mid.fmeasure\n",
    "        rouge_dict = dict((rn, score[rn]) for rn in rouge_names)\n",
    "        df = pd.DataFrame(rouge_dict, index=[\"pegasus\"])\n",
    "        df.to_csv(self.config.metric_file_name, index=False)\n",
    "        print(f\"Evaluation results saved to {self.config.metric_file_name}\")\n",
    "\n",
    "try:\n",
    "    config = ConfigurationManager()\n",
    "    model_evaluation_config = config.get_model_evaluation_config()\n",
    "    model_evaluation_config = ModelEvaluation(config=model_evaluation_config)\n",
    "    model_evaluation_config.evaluate()\n",
    "except Exception as e:\n",
    "    raise e"
   ]
  },
  {
   "cell_type": "code",
   "execution_count": null,
   "metadata": {},
   "outputs": [],
   "source": []
  }
 ],
 "metadata": {
  "kernelspec": {
   "display_name": "textSum",
   "language": "python",
   "name": "python3"
  },
  "language_info": {
   "codemirror_mode": {
    "name": "ipython",
    "version": 3
   },
   "file_extension": ".py",
   "mimetype": "text/x-python",
   "name": "python",
   "nbconvert_exporter": "python",
   "pygments_lexer": "ipython3",
   "version": "3.10.11"
  },
  "orig_nbformat": 4
 },
 "nbformat": 4,
 "nbformat_minor": 2
}
